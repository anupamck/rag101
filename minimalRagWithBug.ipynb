{
 "cells": [
  {
   "cell_type": "code",
   "execution_count": 1,
   "id": "3778d31a-0579-4f0a-b5b7-4187af34992c",
   "metadata": {
    "scrolled": true
   },
   "outputs": [
    {
     "name": "stdout",
     "output_type": "stream",
     "text": [
      "dotenv_path: /Users/anupam/Documents/Programming/rag101/.env\n",
      "Keys in .env: ['LANGSMITH_API_KEY', 'LANGSMITH_ENDPOINT', 'LANGSMITH_PROJECT', 'LANGSMITH_TRACING', 'OPENAI_API_KEY', 'POSTS_SOURCE']\n",
      "Has OPENAI_API_KEY in .env?: True\n",
      "Env OPENAI_API_KEY present?: True\n",
      "Value prefix (masked): sk-pro…\n",
      "cwd: /Users/anupam/Documents/Programming/rag101\n"
     ]
    }
   ],
   "source": [
    "## Load environment variables\n",
    "\n",
    "import os\n",
    "from dotenv import load_dotenv, find_dotenv, dotenv_values\n",
    "\n",
    "# Load with explicit path and allow override\n",
    "dotenv_path = find_dotenv(usecwd=True)\n",
    "print(\"dotenv_path:\", dotenv_path or \"NOT FOUND\")\n",
    "load_dotenv(dotenv_path=dotenv_path, override=True)\n",
    "\n",
    "# Show what was parsed from the file (safe preview)\n",
    "parsed = dotenv_values(dotenv_path) if dotenv_path else {}\n",
    "print(\"Keys in .env:\", sorted(parsed.keys()))\n",
    "print(\"Has OPENAI_API_KEY in .env?:\", \"OPENAI_API_KEY\" in parsed)\n",
    "\n",
    "val = os.getenv(\"OPENAI_API_KEY\")\n",
    "print(\"Env OPENAI_API_KEY present?:\", val is not None)\n",
    "print(\"Value prefix (masked):\", (val[:6] + \"…\") if val else None)\n",
    "\n",
    "# Current working directory (to catch path mistakes)\n",
    "print(\"cwd:\", os.getcwd())"
   ]
  },
  {
   "cell_type": "code",
   "execution_count": 2,
   "id": "56d81f1a-97fa-4c89-8db6-07787b37f400",
   "metadata": {},
   "outputs": [],
   "source": [
    "# Define LLM model\n",
    "\n",
    "import getpass, os\n",
    "from langchain.chat_models import init_chat_model\n",
    "\n",
    "if not os.environ.get(\"OPENAI_API_KEY\"):\n",
    "    os.environ[\"OPENAI_API_KEY\"] = getpass.getpass(\"Enter API key for OpenAI: \")\n",
    "\n",
    "llm = init_chat_model(\"gpt-4o-mini\", model_provider=\"openai\")\n"
   ]
  },
  {
   "cell_type": "code",
   "execution_count": 3,
   "id": "82699293-4306-4acb-b95c-9bb7329932c0",
   "metadata": {},
   "outputs": [],
   "source": [
    "# Choose embeddings\n",
    "\n",
    "import getpass\n",
    "import os\n",
    "\n",
    "if not os.environ.get(\"OPENAI_API_KEY\"):\n",
    "  os.environ[\"OPENAI_API_KEY\"] = getpass.getpass(\"Enter API key for OpenAI: \")\n",
    "\n",
    "from langchain_openai import OpenAIEmbeddings\n",
    "\n",
    "embeddings = OpenAIEmbeddings(model=\"text-embedding-3-large\")"
   ]
  },
  {
   "cell_type": "code",
   "execution_count": 4,
   "id": "7843abbd-d6ac-42b5-8966-1f1dfb83d430",
   "metadata": {},
   "outputs": [],
   "source": [
    "# Chose vector store\n",
    "\n",
    "from langchain_core.vectorstores import InMemoryVectorStore\n",
    "\n",
    "vector_store = InMemoryVectorStore(embeddings)"
   ]
  },
  {
   "cell_type": "code",
   "execution_count": 5,
   "id": "38ad3212-f6b3-4526-8c76-8f321dbc677d",
   "metadata": {},
   "outputs": [
    {
     "name": "stderr",
     "output_type": "stream",
     "text": [
      "USER_AGENT environment variable not set, consider setting it to identify your requests.\n"
     ]
    },
    {
     "name": "stdout",
     "output_type": "stream",
     "text": [
      "Total characters: 43047\n",
      "Split blog post into 63 sub-documents.\n",
      "Document Ids: ['cf04b6ff-cb60-4f48-8677-1903edb3398f', '63d6f7c5-2ea8-41f9-8098-5d56e0a69a3b', 'a307f607-c989-4f91-9e34-b34a2275bb3d', 'dbb191b6-f3e8-4e2f-bbf1-bbd86938aedc', 'fba9345d-619f-44da-848d-11cf22a2fb62']\n"
     ]
    }
   ],
   "source": [
    "import bs4\n",
    "from langchain import hub\n",
    "from langchain_community.document_loaders import WebBaseLoader\n",
    "from langchain_core.documents import Document\n",
    "from langchain_text_splitters import RecursiveCharacterTextSplitter\n",
    "from langgraph.graph import START, StateGraph\n",
    "from typing_extensions import List, TypedDict\n",
    "\n",
    "# Load and chunk contents of the blog\n",
    "loader = WebBaseLoader(\n",
    "    web_paths=(\"https://lilianweng.github.io/posts/2023-06-23-agent/\",),\n",
    "    bs_kwargs=dict(\n",
    "        parse_only=bs4.SoupStrainer(\n",
    "            class_=(\"post-content\", \"post-title\", \"post-header\")\n",
    "        )\n",
    "    ),\n",
    ")\n",
    "docs = loader.load()\n",
    "\n",
    "print(f\"Total characters: {len(docs[0].page_content)}\")\n",
    "\n",
    "text_splitter = RecursiveCharacterTextSplitter(\n",
    "    chunk_size=1000,  # chunk size (characters)\n",
    "    chunk_overlap=200,  # chunk overlap (characters)\n",
    "    add_start_index=True,  # track index in original document\n",
    ")\n",
    "\n",
    "all_splits = text_splitter.split_documents(docs)\n",
    "\n",
    "print(f\"Split blog post into {len(all_splits)} sub-documents.\")\n",
    "\n",
    "# Index chunks\n",
    "document_ids = vector_store.add_documents(documents=all_splits)\n",
    "\n",
    "print(\"Document Ids:\", document_ids[:5])\n",
    "\n",
    "# Define prompt for question-answering\n",
    "# N.B. for non-US LangSmith endpoints, you may need to specify\n",
    "# api_url=\"https://api.smith.langchain.com\" in hub.pull.\n",
    "prompt = hub.pull(\"rlm/rag-prompt\")\n",
    "\n",
    "\n",
    "# Define state for application\n",
    "class State(TypedDict):\n",
    "    question: str\n",
    "    context: List[Document]\n",
    "    answer: str\n",
    "\n",
    "\n",
    "# Define application steps\n",
    "def retrieve(state: State):\n",
    "    retrieved_docs = vector_store.similarity_search(state[\"question\"])\n",
    "    return {\"context\": retrieved_docs}\n",
    "\n",
    "\n",
    "def generate(state: State):\n",
    "    docs_content = \"\\n\\n\".join(doc.page_content for doc in state[\"context\"])\n",
    "    messages = prompt.invoke({\"question\": state[\"question\"], \"context\": docs_content})\n",
    "    response = llm.invoke(messages)\n",
    "    # Always extract the plain string\n",
    "    answer_text = response.content if hasattr(response, \"content\") else str(response)\n",
    "    return {\"answer\": response.content}\n",
    "\n",
    "\n",
    "# Compile application and test\n",
    "graph_builder = StateGraph(State).add_sequence([retrieve, generate])\n",
    "graph_builder.add_edge(START, \"retrieve\")\n",
    "graph = graph_builder.compile()"
   ]
  },
  {
   "cell_type": "code",
   "execution_count": 6,
   "id": "99d93658-976a-4683-9886-23b4dceaa244",
   "metadata": {},
   "outputs": [
    {
     "name": "stdout",
     "output_type": "stream",
     "text": [
      "{\n",
      "    \"thoughts\": {\n",
      "        \"text\": \"I don't know the taste of an orange.\",\n",
      "        \"reasoning\": \"The provided context does not mention the taste of an orange.\",\n",
      "        \"plan\": \"- Review contexts related to taste\\n- Find specific descriptions or reviews about oranges\\n- Compile information to respond to food taste inquiries in the future\",\n",
      "        \"criticism\": \"I should have a broader source of information on food tastes.\",\n",
      "        \"speak\": \"I'm unable to provide the taste of an orange as I don't have that information.\"\n",
      "    },\n",
      "    \"command\": {\n",
      "        \"name\": \"none\",\n",
      "        \"args\": {}\n",
      "    }\n",
      "}\n"
     ]
    }
   ],
   "source": [
    "response = graph.invoke({\"question\": \"What is the taste of an orange?\"})\n",
    "print(response[\"answer\"])"
   ]
  },
  {
   "cell_type": "code",
   "execution_count": null,
   "id": "2c78389f-0537-442d-93e0-7c3c3e54e544",
   "metadata": {},
   "outputs": [],
   "source": []
  }
 ],
 "metadata": {
  "kernelspec": {
   "display_name": "Python 3 (ipykernel)",
   "language": "python",
   "name": "python3"
  },
  "language_info": {
   "codemirror_mode": {
    "name": "ipython",
    "version": 3
   },
   "file_extension": ".py",
   "mimetype": "text/x-python",
   "name": "python",
   "nbconvert_exporter": "python",
   "pygments_lexer": "ipython3",
   "version": "3.13.5"
  }
 },
 "nbformat": 4,
 "nbformat_minor": 5
}
