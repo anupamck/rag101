{
 "cells": [
  {
   "cell_type": "code",
   "execution_count": 1,
   "id": "36f57af0-88d9-4f81-9411-0f0ea94b18b4",
   "metadata": {},
   "outputs": [
    {
     "name": "stdout",
     "output_type": "stream",
     "text": [
      "dotenv_path: /Users/anupam/Documents/Programming/rag101/.env\n",
      "Keys in .env: ['LANGSMITH_API_KEY', 'LANGSMITH_ENDPOINT', 'LANGSMITH_PROJECT', 'LANGSMITH_TRACING', 'OPENAI_API_KEY', 'POSTS_SOURCE']\n",
      "Has OPENAI_API_KEY in .env?: True\n",
      "Env OPENAI_API_KEY present?: True\n",
      "Value prefix (masked): sk-pro…\n",
      "cwd: /Users/anupam/Documents/Programming/rag101\n"
     ]
    }
   ],
   "source": [
    "## Load environment variables\n",
    "\n",
    "import os\n",
    "from dotenv import load_dotenv, find_dotenv, dotenv_values\n",
    "\n",
    "# Load with explicit path and allow override\n",
    "dotenv_path = find_dotenv(usecwd=True)\n",
    "print(\"dotenv_path:\", dotenv_path or \"NOT FOUND\")\n",
    "load_dotenv(dotenv_path=dotenv_path, override=True)\n",
    "\n",
    "# Show what was parsed from the file (safe preview)\n",
    "parsed = dotenv_values(dotenv_path) if dotenv_path else {}\n",
    "print(\"Keys in .env:\", sorted(parsed.keys()))\n",
    "print(\"Has OPENAI_API_KEY in .env?:\", \"OPENAI_API_KEY\" in parsed)\n",
    "\n",
    "val = os.getenv(\"OPENAI_API_KEY\")\n",
    "print(\"Env OPENAI_API_KEY present?:\", val is not None)\n",
    "print(\"Value prefix (masked):\", (val[:6] + \"…\") if val else None)\n",
    "\n",
    "# Current working directory (to catch path mistakes)\n",
    "print(\"cwd:\", os.getcwd())"
   ]
  },
  {
   "cell_type": "code",
   "execution_count": 2,
   "id": "154022be-2d2c-4fee-b062-aa921c258daf",
   "metadata": {},
   "outputs": [],
   "source": [
    "# Define LLM model\n",
    "\n",
    "import getpass, os\n",
    "from langchain.chat_models import init_chat_model\n",
    "\n",
    "if not os.environ.get(\"OPENAI_API_KEY\"):\n",
    "    os.environ[\"OPENAI_API_KEY\"] = getpass.getpass(\"Enter API key for OpenAI: \")\n",
    "\n",
    "llm = init_chat_model(\"gpt-4o-mini\", model_provider=\"openai\")"
   ]
  },
  {
   "cell_type": "code",
   "execution_count": 3,
   "id": "e49e6681-d9a2-4bc0-bd7f-24f5609f7838",
   "metadata": {},
   "outputs": [],
   "source": [
    "# Choose embeddings\n",
    "\n",
    "import getpass\n",
    "import os\n",
    "\n",
    "if not os.environ.get(\"OPENAI_API_KEY\"):\n",
    "  os.environ[\"OPENAI_API_KEY\"] = getpass.getpass(\"Enter API key for OpenAI: \")\n",
    "\n",
    "from langchain_openai import OpenAIEmbeddings\n",
    "\n",
    "embeddings = OpenAIEmbeddings(model=\"text-embedding-3-large\")"
   ]
  },
  {
   "cell_type": "code",
   "execution_count": 4,
   "id": "23564d57-d520-460c-bfb0-914c908d4eb2",
   "metadata": {},
   "outputs": [],
   "source": [
    "# Chose vector store\n",
    "\n",
    "from langchain_core.vectorstores import InMemoryVectorStore\n",
    "\n",
    "vector_store = InMemoryVectorStore(embeddings)"
   ]
  },
  {
   "cell_type": "code",
   "execution_count": null,
   "id": "41a1d8e2-aea1-44fb-a37d-77dcdbd91318",
   "metadata": {},
   "outputs": [],
   "source": [
    "import bs4\n",
    "from langchain import hub\n",
    "from langchain_community.document_loaders import WebBaseLoader\n",
    "from langchain_core.documents import Document\n",
    "from langchain_text_splitters import RecursiveCharacterTextSplitter\n",
    "from typing_extensions import List, TypedDict\n",
    "\n",
    "# Load and chunk contents of the blog\n",
    "loader = WebBaseLoader(\n",
    "    web_paths=(\"https://lilianweng.github.io/posts/2023-06-23-agent/\",),\n",
    "    bs_kwargs=dict(\n",
    "        parse_only=bs4.SoupStrainer(\n",
    "            class_=(\"post-content\", \"post-title\", \"post-header\")\n",
    "        )\n",
    "    ),\n",
    ")\n",
    "docs = loader.load()\n",
    "\n",
    "text_splitter = RecursiveCharacterTextSplitter(chunk_size=1000, chunk_overlap=200)\n",
    "all_splits = text_splitter.split_documents(docs)\n",
    "\n",
    "# Index chunks\n",
    "_ = vector_store.add_documents(documents=all_splits)"
   ]
  }
 ],
 "metadata": {
  "kernelspec": {
   "display_name": "Python 3 (ipykernel)",
   "language": "python",
   "name": "python3"
  },
  "language_info": {
   "codemirror_mode": {
    "name": "ipython",
    "version": 3
   },
   "file_extension": ".py",
   "mimetype": "text/x-python",
   "name": "python",
   "nbconvert_exporter": "python",
   "pygments_lexer": "ipython3",
   "version": "3.13.5"
  }
 },
 "nbformat": 4,
 "nbformat_minor": 5
}
